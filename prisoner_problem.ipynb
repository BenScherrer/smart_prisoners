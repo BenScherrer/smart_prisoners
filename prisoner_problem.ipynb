{
 "cells": [
  {
   "cell_type": "code",
   "execution_count": 2,
   "id": "e71137bd",
   "metadata": {},
   "outputs": [],
   "source": [
    "import polars as pl\n",
    "import random"
   ]
  },
  {
   "cell_type": "code",
   "execution_count": 42,
   "id": "0b30b0d5",
   "metadata": {},
   "outputs": [],
   "source": [
    "def launch_game():\n",
    "    \n",
    "    box_outside_number = list(range(1, 101))\n",
    "    random.shuffle(box_outside_number)\n",
    "    box_inside_number = list(range(1, 101))\n",
    "    random.shuffle(box_inside_number)\n",
    "\n",
    "\n",
    "    boxes = dict(zip(box_outside_number, box_inside_number))\n",
    "\n",
    "    prisoner_order = list(range(1, 101))\n",
    "    random.shuffle(prisoner_order)\n",
    "    \n",
    "    for prisoner in prisoner_order:\n",
    "        win = 0\n",
    "        selected_box = prisoner\n",
    "        for atps in range(50):\n",
    "            selected_num = boxes[selected_box]\n",
    "            if selected_num == prisoner:\n",
    "                # print(f\"Found for prisoner number {prisoner} at attempt {atps}\")\n",
    "                win = 1\n",
    "                break\n",
    "            else:\n",
    "                # print(f\"Attempts {atps}\")\n",
    "                selected_box = selected_num\n",
    "            \n",
    "        if win == 0:\n",
    "            # print('Lost.')\n",
    "            return 0\n",
    "    if win == 1:\n",
    "        # print('All prisoners have found their number !')\n",
    "        return 1"
   ]
  },
  {
   "cell_type": "code",
   "execution_count": 50,
   "id": "3089eb10",
   "metadata": {},
   "outputs": [
    {
     "name": "stdout",
     "output_type": "stream",
     "text": [
      "0.3114\n"
     ]
    }
   ],
   "source": [
    "won = 0\n",
    "nb_games = 10000\n",
    "for games in range (nb_games):\n",
    "    won = won + launch_game()\n",
    "print(won / nb_games)"
   ]
  }
 ],
 "metadata": {
  "kernelspec": {
   "display_name": "smart-prisoners-CNzc4OP8-py3.12",
   "language": "python",
   "name": "python3"
  },
  "language_info": {
   "codemirror_mode": {
    "name": "ipython",
    "version": 3
   },
   "file_extension": ".py",
   "mimetype": "text/x-python",
   "name": "python",
   "nbconvert_exporter": "python",
   "pygments_lexer": "ipython3",
   "version": "3.12.3"
  }
 },
 "nbformat": 4,
 "nbformat_minor": 5
}
